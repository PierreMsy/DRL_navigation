{
 "cells": [
  {
   "cell_type": "code",
   "execution_count": 1,
   "id": "5834303c-298c-444c-b33c-5a0a335f8719",
   "metadata": {},
   "outputs": [
    {
     "name": "stderr",
     "output_type": "stream",
     "text": [
      "C:\\Users\\pierr\\environment\\RL\\lib\\site-packages\\gymnasium\\core.py:27: UserWarning: \u001b[33mWARN: Gymnasium minimally supports python 3.6 as the python foundation not longer supports the version, please update your version to 3.7+\u001b[0m\n",
      "  \"Gymnasium minimally supports python 3.6 as the python foundation not longer supports the version, please update your version to 3.7+\"\n"
     ]
    }
   ],
   "source": [
    "%load_ext autoreload\n",
    "%autoreload 2\n",
    "\n",
    "import sys\n",
    "sys.path.append('..')\n",
    "\n",
    "import os\n",
    "import numpy as np\n",
    "import pandas as pd\n",
    "from torch import nn\n",
    "\n",
    "import gymnasium as gym\n",
    "\n",
    "import matplotlib.pyplot as plt\n",
    "import matplotlib.patches as patches\n",
    "import seaborn as sns\n",
    "from datetime import datetime\n",
    "from tqdm import tqdm\n",
    "\n",
    "from inspect import getsource\n",
    "import torch\n",
    "torch.set_printoptions(sci_mode=False)\n",
    "import random\n",
    "from collections import deque\n",
    "\n",
    "from drl_nav.utils.context import Context\n",
    "from drl_nav.config.config import AgentConfiguration\n",
    "from drl_nav.agent import Agent_PER, Agent_DQN_pixel\n",
    "from drl_nav.network.heads import LabelizerNet, AuxNet, QNet\n",
    "from drl_nav.network.bodies import ConvBody"
   ]
  },
  {
   "cell_type": "markdown",
   "id": "96651797-f52c-4323-8ac9-8530d88c0b93",
   "metadata": {},
   "source": [
    "_____"
   ]
  },
  {
   "cell_type": "code",
   "execution_count": 2,
   "id": "2f85c482-a37f-4f32-abc3-8ffedc0f7dfe",
   "metadata": {},
   "outputs": [
    {
     "name": "stdout",
     "output_type": "stream",
     "text": [
      "state size: 4\n",
      "action space: Discrete(2)\n"
     ]
    }
   ],
   "source": [
    "env = gym.make('CartPole-v1', render_mode=\"human\")\n",
    "\n",
    "if len(env.observation_space.shape):\n",
    "    state_size = env.observation_space.shape[0]\n",
    "else:\n",
    "    state_size = env.observation_space.shape\n",
    "    \n",
    "if isinstance(env.action_space, gym.spaces.discrete.Discrete):\n",
    "    action_size = env.action_space.n\n",
    "\n",
    "print(f\"state size: {state_size}\")    \n",
    "print(f\"action space: {env.action_space}\")\n",
    "\n",
    "env.close()"
   ]
  },
  {
   "cell_type": "markdown",
   "id": "a7b8bedf-25ee-4628-af58-9b38b566893e",
   "metadata": {},
   "source": [
    "#### Random interaction loop"
   ]
  },
  {
   "cell_type": "code",
   "execution_count": 4,
   "id": "73b54130-1e15-4244-b9e0-3c3821794246",
   "metadata": {},
   "outputs": [
    {
     "name": "stdout",
     "output_type": "stream",
     "text": [
      "20.0\n",
      "13.0\n",
      "16.0\n",
      "23.0\n",
      "16.0\n"
     ]
    }
   ],
   "source": [
    "N_EPISODES = 5\n",
    "render = None # \"human\"\n",
    "\n",
    "env = gym.make('CartPole-v1', render_mode=None)\n",
    "\n",
    "#for i in tqdm(range(1, N_EPISODES + 1)):\n",
    "for i in range(1, N_EPISODES + 1):\n",
    "    \n",
    "    score, step = 0, 0\n",
    "    state, _ = env.reset()\n",
    "    \n",
    "    while True:\n",
    "        \n",
    "        action = env.action_space.sample()\n",
    "        next_state, reward, terminated, truncated, info = env.step(action)\n",
    "        done = terminated | truncated\n",
    "        \n",
    "        state = next_state\n",
    "        score += reward\n",
    "        step += 1\n",
    "        \n",
    "        if (done | (step > 200)):\n",
    "            print(score)\n",
    "            break\n",
    "            \n",
    "env.close()"
   ]
  },
  {
   "cell_type": "markdown",
   "id": "b8030d9e-afe8-4a20-a8d0-74feb983eb4a",
   "metadata": {},
   "source": [
    "#### Interaction loop with agent"
   ]
  },
  {
   "cell_type": "code",
   "execution_count": 3,
   "id": "459a6a6f-cf12-4ba2-80e6-79830066e36f",
   "metadata": {},
   "outputs": [],
   "source": [
    "context = Context(\n",
    "    state_size=state_size,\n",
    "    action_size=action_size,\n",
    "    input_type='vector'\n",
    ")\n",
    "config = AgentConfiguration(\n",
    "    network_body={\n",
    "        'type': 'dummy',\n",
    "        'input_size': state_size\n",
    "    },\n",
    "    network_head={\n",
    "        'hidden_layers': [2000, 1000, 128, 64]\n",
    "    }\n",
    ")\n",
    "\n",
    "agent = Agent_DQN_pixel(context, config)"
   ]
  },
  {
   "cell_type": "code",
   "execution_count": 4,
   "id": "ede7e403-984d-46dd-9b69-75c2e9dbe57e",
   "metadata": {},
   "outputs": [
    {
     "name": "stderr",
     "output_type": "stream",
     "text": [
      "100%|██████████| 800/800 [27:17<00:00,  2.05s/it]"
     ]
    },
    {
     "name": "stdout",
     "output_type": "stream",
     "text": [
      "Wall time: 27min 17s\n"
     ]
    },
    {
     "name": "stderr",
     "output_type": "stream",
     "text": [
      "\n"
     ]
    }
   ],
   "source": [
    "%%time\n",
    "\n",
    "N_EPISODES = 800\n",
    "render = None # \"human\" \n",
    "\n",
    "# records\n",
    "scores = []\n",
    "actions = []\n",
    "\n",
    "env = gym.make('CartPole-v1', render_mode=render)\n",
    "\n",
    "for i in tqdm(range(1, N_EPISODES + 1)):\n",
    "    \n",
    "    score, step = 0, 0\n",
    "    state, _ = env.reset()\n",
    "    \n",
    "    while True:\n",
    "        \n",
    "        action = agent.act(state)\n",
    "        next_state, reward, terminated, truncated, info = env.step(action)\n",
    "        done = terminated | truncated\n",
    "        agent.step(state, action, reward, next_state, done)\n",
    "        \n",
    "        \n",
    "        score += reward\n",
    "        state = next_state\n",
    "        step += 1\n",
    "        actions.append(action)\n",
    "        \n",
    "        if (done | (step > 500)):\n",
    "            scores.append(score)\n",
    "            break\n",
    "            \n",
    "env.close()"
   ]
  },
  {
   "cell_type": "code",
   "execution_count": 11,
   "id": "831e39f3-c753-4271-8997-cb032683882d",
   "metadata": {},
   "outputs": [
    {
     "data": {
      "text/plain": [
       "[<matplotlib.lines.Line2D at 0x1dc8aea7438>]"
      ]
     },
     "execution_count": 11,
     "metadata": {},
     "output_type": "execute_result"
    },
    {
     "data": {
      "image/png": "[encoded data removed]",
      "text/plain": [
       "<Figure size 432x288 with 1 Axes>"
      ]
     },
     "metadata": {
      "needs_background": "light"
     },
     "output_type": "display_data"
    }
   ],
   "source": [
    "window_size = 20\n",
    "plt.plot(np.convolve(scores, np.ones(window_size)/window_size, mode='valid'))"
   ]
  },
  {
   "cell_type": "code",
   "execution_count": null,
   "id": "f204ea64-08c3-4eed-89a0-7c80b920c476",
   "metadata": {},
   "outputs": [],
   "source": []
  },
  {
   "cell_type": "code",
   "execution_count": null,
   "id": "1b31ce58-61bb-4bde-ad7c-9d4732685086",
   "metadata": {},
   "outputs": [],
   "source": []
  },
  {
   "cell_type": "code",
   "execution_count": 6,
   "id": "5a8d050c-dd08-417b-9ae9-176091259e69",
   "metadata": {},
   "outputs": [],
   "source": [
    "context = Context(\n",
    "    state_size=state_size,\n",
    "    action_size=action_size,\n",
    "    input_type='vector'\n",
    ")\n",
    "config = AgentConfiguration(\n",
    "    network_body={\n",
    "        'type': 'dummy',\n",
    "        'input_size': state_size\n",
    "    }\n",
    ")\n",
    "\n",
    "agent = Agent_DQN_pixel(context, config)"
   ]
  },
  {
   "cell_type": "code",
   "execution_count": 4,
   "id": "f6f068c9-2ad6-484a-b9c1-f846c35ddf21",
   "metadata": {},
   "outputs": [
    {
     "name": "stderr",
     "output_type": "stream",
     "text": [
      "100%|██████████| 800/800 [02:41<00:00,  4.95it/s] "
     ]
    },
    {
     "name": "stdout",
     "output_type": "stream",
     "text": [
      "Wall time: 2min 41s\n"
     ]
    },
    {
     "name": "stderr",
     "output_type": "stream",
     "text": [
      "\n"
     ]
    }
   ],
   "source": [
    "%%time\n",
    "\n",
    "N_EPISODES = 800\n",
    "render = None # \"human\" \n",
    "\n",
    "# records\n",
    "scores = []\n",
    "actions = []\n",
    "\n",
    "env = gym.make('CartPole-v1', render_mode=render)\n",
    "\n",
    "for i in tqdm(range(1, N_EPISODES + 1)):\n",
    "    \n",
    "    score, step = 0, 0\n",
    "    state, _ = env.reset()\n",
    "    \n",
    "    while True:\n",
    "        \n",
    "        action = agent.act(state)\n",
    "        next_state, reward, terminated, truncated, info = env.step(action)\n",
    "        done = terminated | truncated\n",
    "        agent.step(state, action, reward, next_state, done)\n",
    "        \n",
    "        \n",
    "        score += reward\n",
    "        state = next_state\n",
    "        step += 1\n",
    "        actions.append(action)\n",
    "        \n",
    "        if (done | (step > 500)):\n",
    "            scores.append(score)\n",
    "            break\n",
    "            \n",
    "env.close()"
   ]
  },
  {
   "cell_type": "code",
   "execution_count": 24,
   "id": "c05f6c01-9060-45dd-a163-34ae32d878b6",
   "metadata": {},
   "outputs": [
    {
     "data": {
      "text/plain": [
       "[<matplotlib.lines.Line2D at 0x1f1721caef0>]"
      ]
     },
     "execution_count": 24,
     "metadata": {},
     "output_type": "execute_result"
    },
    {
     "data": {
      "image/png": "[encoded data removed]",
      "text/plain": [
       "<Figure size 432x288 with 1 Axes>"
      ]
     },
     "metadata": {
      "needs_background": "light"
     },
     "output_type": "display_data"
    }
   ],
   "source": [
    "window_size = 20\n",
    "plt.plot(np.convolve(scores, np.ones(window_size)/window_size, mode='valid'))"
   ]
  },
  {
   "cell_type": "code",
   "execution_count": null,
   "id": "06648535-7a5b-4a78-9480-7dba80f35db6",
   "metadata": {},
   "outputs": [],
   "source": []
  }
 ],
 "metadata": {
  "kernelspec": {
   "display_name": "RL",
   "language": "python",
   "name": "python3"
  },
  "language_info": {
   "codemirror_mode": {
    "name": "ipython",
    "version": 3
   },
   "file_extension": ".py",
   "mimetype": "text/x-python",
   "name": "python",
   "nbconvert_exporter": "python",
   "pygments_lexer": "ipython3",
   "version": "3.6.8"
  }
 },
 "nbformat": 4,
 "nbformat_minor": 5
}
