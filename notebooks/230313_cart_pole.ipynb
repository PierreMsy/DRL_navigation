{
 "cells": [
  {
   "cell_type": "code",
   "execution_count": 1,
   "id": "5834303c-298c-444c-b33c-5a0a335f8719",
   "metadata": {},
   "outputs": [
    {
     "name": "stderr",
     "output_type": "stream",
     "text": [
      "C:\\Users\\pierr\\environment\\RL\\lib\\site-packages\\gymnasium\\core.py:27: UserWarning: \u001b[33mWARN: Gymnasium minimally supports python 3.6 as the python foundation not longer supports the version, please update your version to 3.7+\u001b[0m\n",
      "  \"Gymnasium minimally supports python 3.6 as the python foundation not longer supports the version, please update your version to 3.7+\"\n"
     ]
    }
   ],
   "source": [
    "%load_ext autoreload\n",
    "%autoreload 2\n",
    "\n",
    "import sys\n",
    "sys.path.append('..')\n",
    "\n",
    "import os\n",
    "import numpy as np\n",
    "import pandas as pd\n",
    "from torch import nn\n",
    "\n",
    "import gymnasium as gym\n",
    "\n",
    "import matplotlib.pyplot as plt\n",
    "import matplotlib.patches as patches\n",
    "import seaborn as sns\n",
    "from datetime import datetime\n",
    "from tqdm import tqdm\n",
    "\n",
    "from inspect import getsource\n",
    "import torch\n",
    "import random\n",
    "from collections import deque\n",
    "\n",
    "from drl_nav.agent import Agent_PER, Agent_DQN_pixel\n",
    "from drl_nav.network.heads import LabelizerNet, AuxNet, QNet\n",
    "from drl_nav.network.bodies import ConvBody"
   ]
  },
  {
   "cell_type": "markdown",
   "id": "96651797-f52c-4323-8ac9-8530d88c0b93",
   "metadata": {},
   "source": [
    "_____"
   ]
  },
  {
   "cell_type": "code",
   "execution_count": null,
   "id": "67c8f7f8-6061-4464-98aa-4137b66982b8",
   "metadata": {},
   "outputs": [],
   "source": [
    "# number of actions\n",
    "n_A = brain.vector_action_space_size\n",
    "vector_state = env_info.vector_observations[0]\n",
    "visual_state = env_info.visual_observations[0]\n",
    "n_S = len(visual_state)\n"
   ]
  },
  {
   "cell_type": "code",
   "execution_count": 12,
   "id": "2f85c482-a37f-4f32-abc3-8ffedc0f7dfe",
   "metadata": {},
   "outputs": [
    {
     "name": "stdout",
     "output_type": "stream",
     "text": [
      "state size: 4\n",
      "action space: Discrete(2)\n"
     ]
    }
   ],
   "source": [
    "env = gym.make('CartPole-v1')\n",
    "\n",
    "\n",
    "if len(env.observation_space.shape):\n",
    "    state_size = env.observation_space.shape[0]\n",
    "else:\n",
    "    state_size = env.observation_space.shape\n",
    "\n",
    "print(f\"state size: {state_size}\")    \n",
    "print(f\"action space: {env.action_space}\")"
   ]
  },
  {
   "cell_type": "code",
   "execution_count": 9,
   "id": "d637ad9f-f952-4766-a79a-e4ddda302e3a",
   "metadata": {},
   "outputs": [
    {
     "data": {
      "text/plain": [
       "Box([-4.8000002e+00 -3.4028235e+38 -4.1887903e-01 -3.4028235e+38], [4.8000002e+00 3.4028235e+38 4.1887903e-01 3.4028235e+38], (4,), float32)"
      ]
     },
     "execution_count": 9,
     "metadata": {},
     "output_type": "execute_result"
    }
   ],
   "source": [
    "env.observation_space"
   ]
  },
  {
   "cell_type": "code",
   "execution_count": 6,
   "id": "98993c3d-ba22-4186-b5fe-a3b599450f31",
   "metadata": {},
   "outputs": [
    {
     "data": {
      "text/plain": [
       "(4,)"
      ]
     },
     "execution_count": 6,
     "metadata": {},
     "output_type": "execute_result"
    }
   ],
   "source": [
    "state_size"
   ]
  },
  {
   "cell_type": "code",
   "execution_count": 7,
   "id": "6b4c2b79-b88e-4295-ba63-1da3fb4d82b5",
   "metadata": {},
   "outputs": [
    {
     "data": {
      "text/plain": [
       "()"
      ]
     },
     "execution_count": 7,
     "metadata": {},
     "output_type": "execute_result"
    }
   ],
   "source": [
    "action_size "
   ]
  }
 ],
 "metadata": {
  "kernelspec": {
   "display_name": "RL",
   "language": "python",
   "name": "python3"
  },
  "language_info": {
   "codemirror_mode": {
    "name": "ipython",
    "version": 3
   },
   "file_extension": ".py",
   "mimetype": "text/x-python",
   "name": "python",
   "nbconvert_exporter": "python",
   "pygments_lexer": "ipython3",
   "version": "3.6.8"
  }
 },
 "nbformat": 4,
 "nbformat_minor": 5
}
