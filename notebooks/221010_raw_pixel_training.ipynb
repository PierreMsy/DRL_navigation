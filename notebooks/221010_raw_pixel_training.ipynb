{
 "cells": [
  {
   "cell_type": "code",
   "execution_count": 40,
   "id": "5b2f889f-7055-4ec3-b3e6-54b2e1378e2b",
   "metadata": {},
   "outputs": [
    {
     "name": "stdout",
     "output_type": "stream",
     "text": [
      "The autoreload extension is already loaded. To reload it, use:\n",
      "  %reload_ext autoreload\n"
     ]
    }
   ],
   "source": [
    "%load_ext autoreload\n",
    "%autoreload 2\n",
    "\n",
    "import os\n",
    "import numpy as np\n",
    "import pandas as pd\n",
    "import matplotlib.pyplot as plt\n",
    "import matplotlib.patches as patches\n",
    "from datetime import datetime\n",
    "\n",
    "from unityagents import UnityEnvironment\n",
    "\n",
    "from inspect import getsource\n",
    "import torch\n",
    "import random\n",
    "from collections import deque\n",
    "\n",
    "import colorsys\n",
    "\n",
    "from drl_nav.agent import Agent_PER\n",
    "from drl_nav.network.heads import LabelizerNet, AuxNet, QNet\n",
    "from drl_nav.network.bodies import ConvBody"
   ]
  },
  {
   "cell_type": "markdown",
   "id": "1850f51e-4780-41c5-899c-ff40bfdaa137",
   "metadata": {},
   "source": [
    "__________"
   ]
  },
  {
   "cell_type": "code",
   "execution_count": 6,
   "id": "6b76c2a1-2163-49c8-80da-0b69ae5e7416",
   "metadata": {},
   "outputs": [
    {
     "name": "stderr",
     "output_type": "stream",
     "text": [
      "INFO:unityagents:\n",
      "'Academy' started successfully!\n",
      "Unity Academy name: Academy\n",
      "        Number of Brains: 1\n",
      "        Number of External Brains : 1\n",
      "        Lesson number : 0\n",
      "        Reset Parameters :\n",
      "\t\t\n",
      "Unity brain name: BananaBrain\n",
      "        Number of Visual Observations (per agent): 1\n",
      "        Vector Observation space type: continuous\n",
      "        Vector Observation space size (per agent): 0\n",
      "        Number of stacked Vector Observation: 1\n",
      "        Vector Action space type: discrete\n",
      "        Vector Action space size (per agent): 4\n",
      "        Vector Action descriptions: , , , \n"
     ]
    }
   ],
   "source": [
    "banana_path= r\"environment/VisualBanana_Windows_x86_64/Banana.exe\"\n",
    "visual_banana_path= r\"environment/VisualBanana_Windows_x86_64/Banana.exe\"\n",
    "env = UnityEnvironment(file_name=visual_banana_path)\n",
    "\n",
    "# get the default brain\n",
    "brain_name = env.brain_names[0]\n",
    "brain = env.brains[brain_name]"
   ]
  },
  {
   "cell_type": "code",
   "execution_count": 7,
   "id": "ef1b5a08-f395-4b74-b572-39f8ed122a7a",
   "metadata": {},
   "outputs": [
    {
     "name": "stdout",
     "output_type": "stream",
     "text": [
      "Number of agents: 1\n",
      "Number of actions: 4\n",
      "State's shape: (0,)\n"
     ]
    }
   ],
   "source": [
    "env_info = env.reset(train_mode=True)[brain_name]\n",
    "\n",
    "# number of actions\n",
    "n_A = brain.vector_action_space_size\n",
    "state = env_info.vector_observations[0]\n",
    "n_S = len(state)\n",
    "\n",
    "print('Number of agents:', len(env_info.agents))\n",
    "print('Number of actions:', n_A)\n",
    "print(\"State's shape:\", state.shape)"
   ]
  },
  {
   "cell_type": "markdown",
   "id": "70556c43-50e2-4efb-86b0-602425683148",
   "metadata": {},
   "source": [
    "______\n",
    "\n",
    "##### Debug"
   ]
  },
  {
   "cell_type": "code",
   "execution_count": null,
   "id": "fc609ed4-8625-4345-8466-a4f06eaebe06",
   "metadata": {},
   "outputs": [],
   "source": [
    "# 2 4 3 => 3 4 2 "
   ]
  },
  {
   "cell_type": "code",
   "execution_count": 114,
   "id": "ef569191-5b40-43d8-8256-e12c698c2867",
   "metadata": {},
   "outputs": [
    {
     "name": "stdout",
     "output_type": "stream",
     "text": [
      "(2, 3, 4)\n"
     ]
    }
   ],
   "source": [
    "a = np.array([\n",
    "    [\n",
    "        [111, 112, 113, 114],\n",
    "        [121, 122, 123, 124],\n",
    "        [131, 132, 133, 134],\n",
    "    ],\n",
    "    [\n",
    "        [211, 212, 213, 214],\n",
    "        [221, 222, 223, 224],\n",
    "        [231, 232, 233, 234]\n",
    "    ]\n",
    "])\n",
    "print(a.shape)"
   ]
  },
  {
   "cell_type": "raw",
   "id": "9568b2fd-0b13-463b-9bfe-c8713e3a7cbd",
   "metadata": {},
   "source": [
    "[H, W, C]\n",
    "\n",
    "[C, W, H]\n",
    "[3, 6, 3]\n",
    "\n",
    "H, W, C => C, H, w"
   ]
  },
  {
   "cell_type": "markdown",
   "id": "2c065648-9ff9-46d7-8113-53437c9ca945",
   "metadata": {},
   "source": [
    "_____\n",
    "#### Helper functions\n"
   ]
  },
  {
   "cell_type": "code",
   "execution_count": 8,
   "id": "17b50ced-06c3-47ac-a610-28077a2fa4c2",
   "metadata": {},
   "outputs": [],
   "source": [
    "def select_action(last_action, epsilon=0.75):\n",
    "    \"\"\"\n",
    "    Exploratory action selection strategy that favor forward motion and action conservation.\n",
    "    Actions explanation:\n",
    "    0: forward\n",
    "    1: backward\n",
    "    2: left\n",
    "    3: right\n",
    "    \"\"\"\n",
    "    if np.random.random() > epsilon:\n",
    "        action = np.random.choice([0, 1, 2, 3], p=[.5, .1, .2, .2])\n",
    "    else:\n",
    "        action = last_action\n",
    "        \n",
    "    return action"
   ]
  },
  {
   "cell_type": "markdown",
   "id": "75867709-dc5e-4fa4-9d66-e5ba6ee27e81",
   "metadata": {},
   "source": [
    "_____\n",
    "#### One espisode of interaction"
   ]
  },
  {
   "cell_type": "markdown",
   "id": "7b87837b-559a-46d9-bbfe-22210c63b641",
   "metadata": {},
   "source": [
    "###### TODO\n",
    "- make it learn\n",
    "- have and optimzer, zero_grad & all\n",
    "- see https://discuss.pytorch.org/t/multi-label-classification-in-pytorch/905/44"
   ]
  },
  {
   "cell_type": "raw",
   "id": "2f02b9f5-9882-436f-b75b-77a48d585984",
   "metadata": {},
   "source": [
    "x = torch.cat([x, state_torch2, state_torch2], dim=0)\n",
    "self.optimizer = optim.Adam(self.QNet_local.parameters(), lr=LR) "
   ]
  },
  {
   "cell_type": "code",
   "execution_count": 44,
   "id": "b722b008-1693-4b1d-8097-6574567f987e",
   "metadata": {},
   "outputs": [],
   "source": [
    "# labelizer = LabelizerNet()\n",
    "\n",
    "conv_body = ConvBody()\n",
    "q_net = QNet(conv_body, n_A)\n",
    "aux_net = AuxNet(conv_body, n_directions=3, n_colors=2)\n",
    "\n",
    "\n",
    "env_info = env.reset(train_mode=True)[brain_name]\n",
    "state = env_info.visual_observations[0]    "
   ]
  },
  {
   "cell_type": "code",
   "execution_count": 45,
   "id": "350f5641-1c58-44cb-bcee-dd2017e7b03a",
   "metadata": {},
   "outputs": [
    {
     "name": "stdout",
     "output_type": "stream",
     "text": [
      "Score: 0.0\n",
      "Wall time: 4.56 s\n"
     ]
    }
   ],
   "source": [
    "%%time\n",
    "\n",
    "env_info = env.reset(train_mode=True)[brain_name]\n",
    "state = env_info.visual_observations[0]    \n",
    "\n",
    "score, step, last_action = 0, 0 ,0\n",
    "\n",
    "while True:\n",
    "    \n",
    "    action = select_action(last_action)\n",
    "    last_action = action\n",
    "    \n",
    "    env_info = env.step(action)[brain_name]      \n",
    "    next_state = env_info.visual_observations[0] \n",
    "    reward = env_info.rewards[0]                 \n",
    "    done = env_info.local_done[0]                \n",
    "    \n",
    "    score += reward                               \n",
    "    state = next_state  \n",
    "    step += 1\n",
    "    \n",
    "    # step\n",
    "    state_torch = torch.from_numpy(np.moveaxis(state, 3, 1)).float()\n",
    "    \n",
    "    yellow_labels, blue_labels = labelizer(torch.squeeze(state_torch))\n",
    "    colors_labels = np.concatenate((yellow_labels, blue_labels ))\n",
    "    color_pred = aux_net(state_torch)\n",
    "    \n",
    "    \n",
    "    if (done | step > 100):                                      \n",
    "        break\n",
    "    \n",
    "print(\"Score: {}\".format(score))"
   ]
  }
 ],
 "metadata": {
  "kernelspec": {
   "display_name": "RL",
   "language": "python",
   "name": "python3"
  },
  "language_info": {
   "codemirror_mode": {
    "name": "ipython",
    "version": 3
   },
   "file_extension": ".py",
   "mimetype": "text/x-python",
   "name": "python",
   "nbconvert_exporter": "python",
   "pygments_lexer": "ipython3",
   "version": "3.6.8"
  }
 },
 "nbformat": 4,
 "nbformat_minor": 5
}
