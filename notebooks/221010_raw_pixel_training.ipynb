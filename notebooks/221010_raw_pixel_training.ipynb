{
 "cells": [
  {
   "cell_type": "code",
   "execution_count": 3,
   "id": "5b2f889f-7055-4ec3-b3e6-54b2e1378e2b",
   "metadata": {},
   "outputs": [
    {
     "name": "stdout",
     "output_type": "stream",
     "text": [
      "The autoreload extension is already loaded. To reload it, use:\n",
      "  %reload_ext autoreload\n"
     ]
    }
   ],
   "source": [
    "%load_ext autoreload\n",
    "%autoreload 2\n",
    "\n",
    "import sys\n",
    "sys.path.append('..')\n",
    "\n",
    "import os\n",
    "import numpy as np\n",
    "import pandas as pd\n",
    "import matplotlib.pyplot as plt\n",
    "import matplotlib.patches as patches\n",
    "from datetime import datetime\n",
    "from tqdm import tqdm\n",
    "\n",
    "from unityagents import UnityEnvironment\n",
    "\n",
    "from inspect import getsource\n",
    "import torch\n",
    "import random\n",
    "from collections import deque\n",
    "\n",
    "import colorsys\n",
    "\n",
    "from drl_nav.agent import Agent_PER, Agent_DQN_pixel\n",
    "from drl_nav.network.heads import LabelizerNet, AuxNet, QNet\n",
    "from drl_nav.network.bodies import ConvBody"
   ]
  },
  {
   "cell_type": "markdown",
   "id": "1850f51e-4780-41c5-899c-ff40bfdaa137",
   "metadata": {},
   "source": [
    "__________"
   ]
  },
  {
   "cell_type": "code",
   "execution_count": 4,
   "id": "6b76c2a1-2163-49c8-80da-0b69ae5e7416",
   "metadata": {},
   "outputs": [
    {
     "name": "stderr",
     "output_type": "stream",
     "text": [
      "INFO:unityagents:\n",
      "'Academy' started successfully!\n",
      "Unity Academy name: Academy\n",
      "        Number of Brains: 1\n",
      "        Number of External Brains : 1\n",
      "        Lesson number : 0\n",
      "        Reset Parameters :\n",
      "\t\t\n",
      "Unity brain name: BananaBrain\n",
      "        Number of Visual Observations (per agent): 1\n",
      "        Vector Observation space type: continuous\n",
      "        Vector Observation space size (per agent): 0\n",
      "        Number of stacked Vector Observation: 1\n",
      "        Vector Action space type: discrete\n",
      "        Vector Action space size (per agent): 4\n",
      "        Vector Action descriptions: , , , \n"
     ]
    }
   ],
   "source": [
    "banana_path= r\"../environment/VisualBanana_Windows_x86_64/Banana.exe\"\n",
    "visual_banana_path= r\"../environment/VisualBanana_Windows_x86_64/Banana.exe\"\n",
    "env = UnityEnvironment(file_name=visual_banana_path)\n",
    "\n",
    "# get the default brain\n",
    "brain_name = env.brain_names[0]\n",
    "brain = env.brains[brain_name]"
   ]
  },
  {
   "cell_type": "code",
   "execution_count": 5,
   "id": "ef1b5a08-f395-4b74-b572-39f8ed122a7a",
   "metadata": {},
   "outputs": [
    {
     "name": "stdout",
     "output_type": "stream",
     "text": [
      "Number of agents: 1\n",
      "Number of actions: 4\n",
      "State's shape: (0,)\n"
     ]
    }
   ],
   "source": [
    "env_info = env.reset(train_mode=True)[brain_name]\n",
    "\n",
    "# number of actions\n",
    "n_A = brain.vector_action_space_size\n",
    "state = env_info.vector_observations[0]\n",
    "n_S = len(state)\n",
    "\n",
    "print('Number of agents:', len(env_info.agents))\n",
    "print('Number of actions:', n_A)\n",
    "print(\"State's shape:\", state.shape)"
   ]
  },
  {
   "cell_type": "markdown",
   "id": "70556c43-50e2-4efb-86b0-602425683148",
   "metadata": {},
   "source": [
    "______\n",
    "\n",
    "##### Debug"
   ]
  },
  {
   "cell_type": "code",
   "execution_count": 114,
   "id": "ef569191-5b40-43d8-8256-e12c698c2867",
   "metadata": {},
   "outputs": [
    {
     "name": "stdout",
     "output_type": "stream",
     "text": [
      "(2, 3, 4)\n"
     ]
    }
   ],
   "source": [
    "a = np.array([\n",
    "    [\n",
    "        [111, 112, 113, 114],\n",
    "        [121, 122, 123, 124],\n",
    "        [131, 132, 133, 134],\n",
    "    ],\n",
    "    [\n",
    "        [211, 212, 213, 214],\n",
    "        [221, 222, 223, 224],\n",
    "        [231, 232, 233, 234]\n",
    "    ]\n",
    "])\n",
    "print(a.shape)"
   ]
  },
  {
   "cell_type": "raw",
   "id": "9568b2fd-0b13-463b-9bfe-c8713e3a7cbd",
   "metadata": {},
   "source": [
    "[H, W, C]\n",
    "\n",
    "[C, W, H]\n",
    "[3, 6, 3]\n",
    "\n",
    "H, W, C => C, H, w"
   ]
  },
  {
   "cell_type": "markdown",
   "id": "2c065648-9ff9-46d7-8113-53437c9ca945",
   "metadata": {},
   "source": [
    "_____\n",
    "#### Helper functions\n"
   ]
  },
  {
   "cell_type": "code",
   "execution_count": 6,
   "id": "17b50ced-06c3-47ac-a610-28077a2fa4c2",
   "metadata": {},
   "outputs": [],
   "source": [
    "def select_action(last_action, epsilon=0.75):\n",
    "    \"\"\"\n",
    "    Exploratory action selection strategy that favor forward motion and action conservation.\n",
    "    Actions explanation:\n",
    "    0: forward\n",
    "    1: backward\n",
    "    2: left\n",
    "    3: right\n",
    "    \"\"\"\n",
    "    if np.random.random() > epsilon:\n",
    "        action = np.random.choice([0, 1, 2, 3], p=[.5, .1, .2, .2])\n",
    "    else:\n",
    "        action = last_action\n",
    "        \n",
    "    return action\n",
    "\n",
    "def count_parameters(model):\n",
    "    \"\"\" return the number of parameters of a model.\"\"\"\n",
    "    return sum(p.numel() for p in model.parameters() if p.requires_grad)"
   ]
  },
  {
   "cell_type": "markdown",
   "id": "75867709-dc5e-4fa4-9d66-e5ba6ee27e81",
   "metadata": {},
   "source": [
    "_____\n",
    "## Experimentations"
   ]
  },
  {
   "cell_type": "markdown",
   "id": "bf14eba6-9b8a-4605-8658-c6a2b97715d6",
   "metadata": {
    "tags": []
   },
   "source": [
    "###### TODO\n",
    "- Observe the learning curve on the color detection.\n",
    "- How it evolve when the agent stop working on its color detection ?\n",
    "- Does we need to learn color detection and later refresh that skill ?\n",
    "- Obviously compare with and without color detection.\n",
    "- decrease the spatial dimension of the input.\n",
    "- user replay buffer both for learning Q values and color detection. (labelizing is costly and labels are often correlated.)\n",
    "- tests image detection on MNIST"
   ]
  },
  {
   "cell_type": "markdown",
   "id": "507f231a-1854-440e-8c6f-089d72262062",
   "metadata": {},
   "source": [
    "#### One espisode of interaction"
   ]
  },
  {
   "cell_type": "code",
   "execution_count": null,
   "id": "af0a1b07-399c-48ec-ab01-baf3c7679673",
   "metadata": {},
   "outputs": [],
   "source": [
    "count_parameters(conv_body)\n",
    "count_parameters(aux_net)\n",
    "count_parameters(q_net)\n",
    "\n",
    "conv_body.parameters"
   ]
  },
  {
   "cell_type": "code",
   "execution_count": 142,
   "id": "b722b008-1693-4b1d-8097-6574567f987e",
   "metadata": {},
   "outputs": [],
   "source": [
    "labelizer = LabelizerNet()\n",
    "\n",
    "conv_body = ConvBody() #decrease the spatial dimension of the output.\n",
    "q_net = QNet(conv_body, n_A)\n",
    "aux_net = AuxNet(conv_body, n_directions=3, n_colors=2)\n",
    "\n",
    "criterion_q = nn.MSELoss() # MSE\n",
    "optimizer_q = torch.optim.Adam(q_net.parameters()) # set the learning rate\n",
    "\n",
    "criterion_aux = nn.CrossEntropyLoss() # CrossEntropy\n",
    "optimizer_aux = torch.optim.Adam(aux_net.parameters())\n",
    "\n",
    "env_info = env.reset(train_mode=True)[brain_name]\n",
    "state = env_info.visual_observations[0]    "
   ]
  },
  {
   "cell_type": "code",
   "execution_count": 8,
   "id": "49dd0c9e-e814-41ee-9c73-2abb2b70e3f4",
   "metadata": {},
   "outputs": [],
   "source": [
    "agent = Agent_DQN_pixel(n_A)"
   ]
  },
  {
   "cell_type": "markdown",
   "id": "9b0c6bc7-e579-47a6-a18f-4836d189fed6",
   "metadata": {},
   "source": [
    "#### One episode no buffer."
   ]
  },
  {
   "cell_type": "code",
   "execution_count": 98,
   "id": "350f5641-1c58-44cb-bcee-dd2017e7b03a",
   "metadata": {},
   "outputs": [
    {
     "name": "stdout",
     "output_type": "stream",
     "text": [
      "Score: 0.0\n",
      "Score: 0.0\n",
      "Score: 0.0\n",
      "Score: 2.0\n",
      "Score: -2.0\n",
      "Score: 0.0\n",
      "Score: 0.0\n",
      "Score: 2.0\n",
      "5.13 s ± 162 ms per loop (mean ± std. dev. of 7 runs, 1 loop each)\n"
     ]
    }
   ],
   "source": [
    "%%timeit\n",
    "\n",
    "env_info = env.reset(train_mode=True)[brain_name]\n",
    "state = env_info.visual_observations[0]    \n",
    "\n",
    "score, step, last_action = 0, 0 ,0\n",
    "\n",
    "while True:\n",
    "    \n",
    "    action = select_action(last_action)\n",
    "    last_action = action\n",
    "    \n",
    "    env_info = env.step(action)[brain_name]      \n",
    "    next_state = env_info.visual_observations[0] \n",
    "    reward = env_info.rewards[0]                 \n",
    "    done = env_info.local_done[0]                \n",
    "    \n",
    "    score += reward                               \n",
    "    state = next_state  \n",
    "    step += 1\n",
    "    \n",
    "    # step\n",
    "    state_torch = torch.from_numpy(np.moveaxis(state, 3, 1)).float()\n",
    "    \n",
    "    yellow_labels, blue_labels = labelizer(torch.squeeze(state_torch))\n",
    "    colors_labels = torch.from_numpy(np.concatenate((yellow_labels, blue_labels)).reshape(1,-1)).float()\n",
    "    color_pred = aux_net(state_torch)\n",
    "    \n",
    "    optimizer_aux.zero_grad()\n",
    "    loss_color_detection = criterion_aux(color_pred, colors_labels)\n",
    "    loss_color_detection.backward()\n",
    "    optimizer_aux.step()\n",
    "    \n",
    "    if (done | step > 100):                                      \n",
    "        break\n",
    "    \n",
    "print(\"Score: {}\".format(score))"
   ]
  },
  {
   "cell_type": "markdown",
   "id": "1efdbdee-5ef6-4a3f-b515-f9b90495561a",
   "metadata": {},
   "source": [
    "#### One episode with buffer."
   ]
  },
  {
   "cell_type": "code",
   "execution_count": 102,
   "id": "fd883ee5-e041-4a0f-b99b-6d67e6461f58",
   "metadata": {},
   "outputs": [],
   "source": [
    "color_pred_1 = color_pred"
   ]
  },
  {
   "cell_type": "code",
   "execution_count": null,
   "id": "540cfe0e-77ec-4536-a810-f0883c1efa5e",
   "metadata": {},
   "outputs": [],
   "source": [
    "color_pred_1. color_pred"
   ]
  },
  {
   "cell_type": "code",
   "execution_count": 109,
   "id": "dbaa9b45-9e19-4484-a373-b5235eb9b38f",
   "metadata": {},
   "outputs": [
    {
     "data": {
      "text/plain": [
       "torch.Size([2, 6])"
      ]
     },
     "execution_count": 109,
     "metadata": {},
     "output_type": "execute_result"
    }
   ],
   "source": [
    "torch.cat((color_pred_1, color_pred), 0).size()"
   ]
  },
  {
   "cell_type": "code",
   "execution_count": 107,
   "id": "6f498ae2-ece6-410a-a9ef-eb60768b5f41",
   "metadata": {},
   "outputs": [
    {
     "name": "stdout",
     "output_type": "stream",
     "text": [
      "Score: 1.0\n",
      "Wall time: 4.35 s\n"
     ]
    }
   ],
   "source": [
    "%%time\n",
    "\n",
    "env_info = env.reset(train_mode=True)[brain_name]\n",
    "state = env_info.visual_observations[0]    \n",
    "\n",
    "score, step, last_action = 0, 0 ,0\n",
    "color_labels = []\n",
    "colors_pred = []\n",
    "\n",
    "\n",
    "while True:\n",
    "    \n",
    "    action = select_action(last_action)\n",
    "    last_action = action\n",
    "    \n",
    "    env_info = env.step(action)[brain_name]      \n",
    "    next_state = env_info.visual_observations[0] \n",
    "    reward = env_info.rewards[0]                 \n",
    "    done = env_info.local_done[0]                \n",
    "    \n",
    "    score += reward                               \n",
    "    state = next_state  \n",
    "    step += 1\n",
    "    \n",
    "    # step\n",
    "    state_torch = torch.from_numpy(np.moveaxis(state, 3, 1)).float()\n",
    "    \n",
    "    yellow_labels, blue_labels = labelizer(torch.squeeze(state_torch))\n",
    "    colors_labels = torch.from_numpy(np.concatenate((yellow_labels, blue_labels))).float()\n",
    "    color_pred = aux_net(state_torch)\n",
    "\n",
    "    if (done | step > 100):                                      \n",
    "        break\n",
    "    \n",
    "print(\"Score: {}\".format(score))"
   ]
  },
  {
   "cell_type": "code",
   "execution_count": null,
   "id": "8d770271-1075-4dea-9ce3-9c569355a71d",
   "metadata": {},
   "outputs": [],
   "source": [
    "Agent_DQN_pixel(n)N"
   ]
  },
  {
   "cell_type": "code",
   "execution_count": null,
   "id": "5268717e-c56f-4ca4-a602-d926fb22f232",
   "metadata": {},
   "outputs": [],
   "source": []
  },
  {
   "cell_type": "code",
   "execution_count": null,
   "id": "c73de8d4-1406-4393-a47c-23c2bc5b6b70",
   "metadata": {},
   "outputs": [],
   "source": [
    "    optimizer_aux.zero_grad()\n",
    "    loss_color_detection = criterion_aux(color_pred, colors_labels)\n",
    "    loss_color_detection.backward()\n",
    "    optimizer_aux.step()"
   ]
  },
  {
   "cell_type": "code",
   "execution_count": 111,
   "id": "e1d64105-502c-48c4-8134-6777ae06b3eb",
   "metadata": {},
   "outputs": [],
   "source": []
  },
  {
   "cell_type": "markdown",
   "id": "1e6735de-301d-4bef-a658-1984bef134b1",
   "metadata": {},
   "source": [
    "#### 2000 episodes color detection performances"
   ]
  },
  {
   "cell_type": "code",
   "execution_count": 143,
   "id": "510afbc2-d073-44ae-85c4-ed301376695a",
   "metadata": {},
   "outputs": [
    {
     "name": "stderr",
     "output_type": "stream",
     "text": [
      "100%|██████████| 2000/2000 [2:54:17<00:00,  5.23s/it]  "
     ]
    },
    {
     "name": "stdout",
     "output_type": "stream",
     "text": [
      "Wall time: 2h 54min 17s\n"
     ]
    },
    {
     "name": "stderr",
     "output_type": "stream",
     "text": [
      "\n"
     ]
    }
   ],
   "source": [
    "%%time\n",
    "\n",
    "N_EPISODES = 2_000\n",
    "\n",
    "errors_color_detection = []\n",
    "scores = []\n",
    "\n",
    "for i in tqdm(range(1, N_EPISODES + 1)):\n",
    "    \n",
    "    env_info = env.reset(train_mode=True)[brain_name]\n",
    "    state = env_info.visual_observations[0]    \n",
    "    score, step, last_action = 0, 0 ,0\n",
    "    errors_color_detection_episode = []\n",
    "    \n",
    "    while True:\n",
    "        \n",
    "        action = select_action(last_action)\n",
    "        last_action = action\n",
    "        \n",
    "        env_info = env.step(action)[brain_name]      \n",
    "        next_state = env_info.visual_observations[0] \n",
    "        reward = env_info.rewards[0]                 \n",
    "        done = env_info.local_done[0]                \n",
    "        \n",
    "        score += reward                               \n",
    "        state = next_state  \n",
    "        step += 1\n",
    "        \n",
    "        # step\n",
    "        state_torch = torch.from_numpy(np.moveaxis(state, 3, 1)).float()\n",
    "        \n",
    "        yellow_labels, blue_labels = labelizer(torch.squeeze(state_torch))\n",
    "        colors_labels = torch.from_numpy(np.concatenate((yellow_labels, blue_labels)).reshape(1,-1)).float()\n",
    "        color_pred = aux_net(state_torch)\n",
    "        print(color_pred)\n",
    "        \n",
    "        optimizer_aux.zero_grad()\n",
    "        loss_color_detection = criterion_aux(color_pred, colors_labels)\n",
    "        loss_color_detection.backward()\n",
    "        optimizer_aux.step()\n",
    "        errors_color_detection_episode.append(loss_color_detection.item())\n",
    "        \n",
    "        if (done | step > 100):\n",
    "            scores.append(score)\n",
    "            errors_color_detection.append(np.mean(errors_color_detection_episode))\n",
    "            break"
   ]
  },
  {
   "cell_type": "code",
   "execution_count": 150,
   "id": "b32b20a6-ec89-4c05-b3ff-95a05049895f",
   "metadata": {},
   "outputs": [
    {
     "data": {
      "text/plain": [
       "tensor([[9.6037e-23, 5.3695e-23, 1.0000e+00, 0.0000e+00, 0.0000e+00, 0.0000e+00]],\n",
       "       grad_fn=<SigmoidBackward0>)"
      ]
     },
     "execution_count": 150,
     "metadata": {},
     "output_type": "execute_result"
    }
   ],
   "source": [
    "color_pred"
   ]
  },
  {
   "cell_type": "code",
   "execution_count": 149,
   "id": "e0180499-817c-4a6d-af77-25559519ca89",
   "metadata": {},
   "outputs": [
    {
     "data": {
      "text/plain": [
       "tensor([[0., 0., 0., 0., 1., 1.]])"
      ]
     },
     "execution_count": 149,
     "metadata": {},
     "output_type": "execute_result"
    }
   ],
   "source": [
    "colors_labels"
   ]
  },
  {
   "cell_type": "code",
   "execution_count": null,
   "id": "e017473b-8d1d-4788-8e23-1af3488a8b9d",
   "metadata": {},
   "outputs": [],
   "source": []
  },
  {
   "cell_type": "code",
   "execution_count": 141,
   "id": "6ad8932d-211b-4e8a-8a5c-64a6e537fb1c",
   "metadata": {},
   "outputs": [],
   "source": [
    "errors_color_detection_backup = errors_color_detection.copy()"
   ]
  },
  {
   "cell_type": "code",
   "execution_count": 144,
   "id": "3d3f4244-c4cd-4f93-8a9f-f80eae85da3c",
   "metadata": {},
   "outputs": [
    {
     "data": {
      "text/plain": [
       "[<matplotlib.lines.Line2D at 0x224e75eea90>]"
      ]
     },
     "execution_count": 144,
     "metadata": {},
     "output_type": "execute_result"
    },
    {
     "data": {
      "image/png": "[encoded data removed]",
      "text/plain": [
       "<Figure size 432x288 with 1 Axes>"
      ]
     },
     "metadata": {
      "needs_background": "light"
     },
     "output_type": "display_data"
    }
   ],
   "source": [
    "plt.plot(errors_color_detection)"
   ]
  },
  {
   "cell_type": "code",
   "execution_count": 148,
   "id": "11ad8147-0a66-440e-bb1c-d8f7289e84f7",
   "metadata": {},
   "outputs": [
    {
     "data": {
      "text/plain": [
       "[<matplotlib.lines.Line2D at 0x224e73326d8>]"
      ]
     },
     "execution_count": 148,
     "metadata": {},
     "output_type": "execute_result"
    },
    {
     "data": {
      "image/png": "[encoded data removed]",
      "text/plain": [
       "<Figure size 432x288 with 1 Axes>"
      ]
     },
     "metadata": {
      "needs_background": "light"
     },
     "output_type": "display_data"
    }
   ],
   "source": [
    "error_detection_avg = []\n",
    "window_size = 20\n",
    "\n",
    "for i in range(len(errors_color_detection)):\n",
    "    error_detection_avg.append(\n",
    "        np.mean(\n",
    "            errors_color_detection[max(0, i-window_size//2): min(len(errors_color_detection)-1, i+window_size//2)]))\n",
    "    \n",
    "plt.plot(error_detection_avg)"
   ]
  },
  {
   "cell_type": "code",
   "execution_count": 136,
   "id": "4df3820c-a08a-4898-8753-ee1131c2d140",
   "metadata": {},
   "outputs": [
    {
     "data": {
      "text/plain": [
       "[<matplotlib.lines.Line2D at 0x224e6e95c88>]"
      ]
     },
     "execution_count": 136,
     "metadata": {},
     "output_type": "execute_result"
    },
    {
     "data": {
      "image/png": "[encoded data removed]",
      "text/plain": [
       "<Figure size 432x288 with 1 Axes>"
      ]
     },
     "metadata": {
      "needs_background": "light"
     },
     "output_type": "display_data"
    }
   ],
   "source": [
    "plt.plot(errors_color_detection)"
   ]
  },
  {
   "cell_type": "code",
   "execution_count": 139,
   "id": "7626502f-5f56-4a0e-94ec-ed161e347557",
   "metadata": {},
   "outputs": [],
   "source": [
    "error_detection_avg = []\n",
    "window_size = 50\n",
    "\n",
    "for i in range(len(errors_color_detection)):\n",
    "    error_detection_avg.append(\n",
    "        np.mean(\n",
    "            errors_color_detection[max(0, i-window_size//2): min(len(errors_color_detection)-1, i+window_size//2)]))"
   ]
  },
  {
   "cell_type": "code",
   "execution_count": 140,
   "id": "6cd53bb7-2bf3-4b4f-b238-17885738030f",
   "metadata": {},
   "outputs": [
    {
     "data": {
      "text/plain": [
       "[<matplotlib.lines.Line2D at 0x224e74f2f98>]"
      ]
     },
     "execution_count": 140,
     "metadata": {},
     "output_type": "execute_result"
    },
    {
     "data": {
      "image/png": "[encoded data removed]",
      "text/plain": [
       "<Figure size 432x288 with 1 Axes>"
      ]
     },
     "metadata": {
      "needs_background": "light"
     },
     "output_type": "display_data"
    }
   ],
   "source": [
    "plt.plot(error_detection_avg)"
   ]
  },
  {
   "cell_type": "code",
   "execution_count": null,
   "id": "8474cc97-fd1d-4907-b987-bd5f8e1f4210",
   "metadata": {},
   "outputs": [],
   "source": []
  },
  {
   "cell_type": "code",
   "execution_count": null,
   "id": "64e01b79-8c2b-42b7-98b1-ea93f968312e",
   "metadata": {},
   "outputs": [],
   "source": []
  },
  {
   "cell_type": "code",
   "execution_count": null,
   "id": "73958980-b38b-48e9-97d4-15c6ab70cd42",
   "metadata": {},
   "outputs": [],
   "source": []
  },
  {
   "cell_type": "code",
   "execution_count": null,
   "id": "26c67099-6499-40b8-9600-38b711b36584",
   "metadata": {},
   "outputs": [],
   "source": []
  },
  {
   "cell_type": "markdown",
   "id": "2c9af999-5748-46ca-ad5a-6781d9b4e712",
   "metadata": {},
   "source": [
    "__________"
   ]
  },
  {
   "cell_type": "code",
   "execution_count": 65,
   "id": "e6d20165-dad0-437c-9060-532fc84bd43b",
   "metadata": {},
   "outputs": [
    {
     "name": "stdout",
     "output_type": "stream",
     "text": [
      "input:  tensor([[-0.4111,  0.0346,  0.9377,  0.3446,  0.0206],\n",
      "        [-0.2474,  1.7471, -1.0637,  0.6581, -0.1796],\n",
      "        [-0.0752,  0.1035,  1.1926, -0.5212,  1.1132]], requires_grad=True)\n",
      "target:  tensor([[-1.7188,  0.4338, -0.8110,  1.8322,  0.3109],\n",
      "        [-0.8747, -0.2675,  1.5537, -2.0704, -0.0802],\n",
      "        [-0.3607,  2.3527,  0.3252,  0.4306, -1.9217]])\n",
      "output:  tensor(1.3806, grad_fn=<L1LossBackward0>)\n"
     ]
    }
   ],
   "source": [
    "import torch\n",
    "import torch.nn as nn\n",
    "\n",
    "input = torch.randn(3, 5, requires_grad=True)\n",
    "target = torch.randn(3, 5)\n",
    "\n",
    "mae_loss = nn.CrossEntropyLoss()\n",
    "output = mae_loss(input, target)\n",
    "output.backward()\n",
    "\n",
    "print('input: ', input)\n",
    "print('target: ', target)\n",
    "print('output: ', output)"
   ]
  },
  {
   "cell_type": "code",
   "execution_count": null,
   "id": "427bf1b7-df4d-4537-9c7b-8cdb6543d0d9",
   "metadata": {},
   "outputs": [],
   "source": []
  },
  {
   "cell_type": "code",
   "execution_count": null,
   "id": "776ebacb-2e46-401d-8d6b-6380934aad4d",
   "metadata": {},
   "outputs": [],
   "source": []
  }
 ],
 "metadata": {
  "kernelspec": {
   "display_name": "RL",
   "language": "python",
   "name": "python3"
  },
  "language_info": {
   "codemirror_mode": {
    "name": "ipython",
    "version": 3
   },
   "file_extension": ".py",
   "mimetype": "text/x-python",
   "name": "python",
   "nbconvert_exporter": "python",
   "pygments_lexer": "ipython3",
   "version": "3.6.8"
  }
 },
 "nbformat": 4,
 "nbformat_minor": 5
}
