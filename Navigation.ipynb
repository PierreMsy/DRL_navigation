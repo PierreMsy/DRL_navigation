{
 "cells": [
  {
   "cell_type": "code",
   "execution_count": 1,
   "metadata": {},
   "outputs": [],
   "source": [
    "%load_ext autoreload\n",
    "%autoreload 2\n",
    "\n",
    "import os\n",
    "import numpy as np\n",
    "import pandas as pd\n",
    "import matplotlib.pyplot as plt\n",
    "from datetime import datetime\n",
    "\n",
    "from unityagents import UnityEnvironment\n",
    "\n",
    "from inspect import getsource\n",
    "import torch\n",
    "import random\n",
    "from collections import deque\n",
    "\n",
    "from ressource.Agent_PER import Agent as Agent_PER\n",
    "from ressource.Q_network import QNet\n",
    "from ressource.ReplayBuffer import ReplayBuffer"
   ]
  },
  {
   "cell_type": "markdown",
   "metadata": {},
   "source": [
    "#### Parameters & utils functions"
   ]
  },
  {
   "cell_type": "code",
   "execution_count": 3,
   "metadata": {},
   "outputs": [],
   "source": [
    "path_model = r'./model'\n",
    "path_result = r'./result'\n",
    "\n",
    "def save_scores(scores_record, AVERAGE_ON_RECORD, suffix):\n",
    "\n",
    "    df_res = pd.DataFrame()\n",
    "    df_res['episode'] = np.array([x*AVERAGE_ON_RECORD for x in range(1, len(scores_record)+1)])\n",
    "    df_res['score'] = np.array(scores_record)\n",
    "    \n",
    "    now = datetime.now()\n",
    "    res_name = f'{str(now.month).zfill(2)}_{str(now.day).zfill(2)}_{now.hour}h{now.minute}_scores_{suffix}'\n",
    "    df_res.to_csv(os.path.join(path_results, res_name), index=False)\n",
    "    \n",
    "def load_agent(modelname, path_model, use_dueling_net=True, use_DDQN=True):\n",
    "\n",
    "    checkpoint = torch.load(os.path.join(path_model, fr'{modelname}.pth'))\n",
    "\n",
    "    agent = Agent_PER(state_size, action_size, use_dueling_net, use_DDQN)\n",
    "    agent.QNet_local.load_state_dict(checkpoint)\n",
    "    agent.QNet_target.load_state_dict(checkpoint)\n",
    "\n",
    "    return agent"
   ]
  },
  {
   "cell_type": "markdown",
   "metadata": {},
   "source": [
    "\n",
    "_____\n",
    "\n",
    "### Launch the environment"
   ]
  },
  {
   "cell_type": "code",
   "execution_count": 4,
   "metadata": {},
   "outputs": [
    {
     "name": "stderr",
     "output_type": "stream",
     "text": [
      "INFO:unityagents:\n",
      "'Academy' started successfully!\n",
      "Unity Academy name: Academy\n",
      "        Number of Brains: 1\n",
      "        Number of External Brains : 1\n",
      "        Lesson number : 0\n",
      "        Reset Parameters :\n",
      "\t\t\n",
      "Unity brain name: BananaBrain\n",
      "        Number of Visual Observations (per agent): 0\n",
      "        Vector Observation space type: continuous\n",
      "        Vector Observation space size (per agent): 37\n",
      "        Number of stacked Vector Observation: 1\n",
      "        Vector Action space type: discrete\n",
      "        Vector Action space size (per agent): 4\n",
      "        Vector Action descriptions: , , , \n"
     ]
    }
   ],
   "source": [
    "banana_path= r\"Banana_Windows_x86_64\\Banana.exe\"\n",
    "env = UnityEnvironment(file_name=banana_path)\n",
    "\n",
    "# get the default brain\n",
    "brain_name = env.brain_names[0]\n",
    "brain = env.brains[brain_name]"
   ]
  },
  {
   "cell_type": "markdown",
   "metadata": {},
   "source": [
    "### Description of the State and Action Spaces\n",
    "\n",
    "The simulation contains a single agent that navigates a large environment.  At each time step, it has four actions at its disposal:\n",
    "- `0` - walk forward \n",
    "- `1` - walk backward\n",
    "- `2` - turn left\n",
    "- `3` - turn right\n",
    "\n",
    "The state space has `37` dimensions and contains the agent's velocity, along with ray-based perception of objects around agent's forward direction.  A reward of `+1` is provided for collecting a yellow banana, and a reward of `-1` is provided for collecting a blue banana. \n",
    "\n",
    "Run the code cell below to print some information about the environment."
   ]
  },
  {
   "cell_type": "code",
   "execution_count": 5,
   "metadata": {},
   "outputs": [
    {
     "name": "stdout",
     "output_type": "stream",
     "text": [
      "Number of agents: 1\n",
      "Number of actions: 4\n",
      "States look like: [1.         0.         0.         0.         0.84408134 0.\n",
      " 0.         1.         0.         0.0748472  0.         1.\n",
      " 0.         0.         0.25755    1.         0.         0.\n",
      " 0.         0.74177343 0.         1.         0.         0.\n",
      " 0.25854847 0.         0.         1.         0.         0.09355672\n",
      " 0.         1.         0.         0.         0.31969345 0.\n",
      " 0.        ]\n",
      "States have length: 37\n"
     ]
    }
   ],
   "source": [
    "# reset the environment\n",
    "env_info = env.reset(train_mode=True)[brain_name]\n",
    "\n",
    "# number of agents in the environment\n",
    "print('Number of agents:', len(env_info.agents))\n",
    "\n",
    "# number of actions\n",
    "action_size = brain.vector_action_space_size\n",
    "print('Number of actions:', action_size)\n",
    "\n",
    "# examine the state space \n",
    "state = env_info.vector_observations[0]\n",
    "print('States look like:', state)\n",
    "state_size = len(state)\n",
    "print('States have length:', state_size)"
   ]
  },
  {
   "cell_type": "markdown",
   "metadata": {},
   "source": [
    "When finished, you can close the environment."
   ]
  },
  {
   "cell_type": "markdown",
   "metadata": {},
   "source": [
    "\n",
    "___\n",
    "## Training  "
   ]
  },
  {
   "cell_type": "code",
   "execution_count": 6,
   "metadata": {},
   "outputs": [],
   "source": [
    "agent = Agent_PER(state_size, action_size, use_dueling_net=True, use_DDQN=False)"
   ]
  },
  {
   "cell_type": "markdown",
   "metadata": {},
   "source": [
    "### One episode"
   ]
  },
  {
   "cell_type": "code",
   "execution_count": 7,
   "metadata": {},
   "outputs": [
    {
     "name": "stdout",
     "output_type": "stream",
     "text": [
      "Score: 1.0\n"
     ]
    }
   ],
   "source": [
    "env_info = env.reset(train_mode=True)[brain_name] # reset the environment\n",
    "state = env_info.vector_observations[0]           # get the current state\n",
    "score = 0                                         # initialize the score\n",
    "\n",
    "while True:\n",
    "    \n",
    "    action = agent.act(state)                     # select an action\n",
    "    \n",
    "    env_info = env.step(action)[brain_name]        # send the action to the environment\n",
    "    next_state = env_info.vector_observations[0]   # get the next state\n",
    "    reward = env_info.rewards[0]                   # get the reward\n",
    "    done = env_info.local_done[0]                  # see if episode has finished\n",
    "    \n",
    "    agent.step(state, action, reward, next_state, done) \n",
    "    \n",
    "    score += reward                                # update the score\n",
    "    state = next_state                             # roll over the state to next time step\n",
    "    \n",
    "    if done:                                       # exit loop if episode finished\n",
    "        break\n",
    "    \n",
    "print(\"Score: {}\".format(score))"
   ]
  },
  {
   "cell_type": "markdown",
   "metadata": {},
   "source": [
    "### Training agent over many episodes\n",
    "\n",
    "The training will end when the target of a score of more than 13 over the last 100 episodes is reached or if N_EPISODES elapsed. "
   ]
  },
  {
   "cell_type": "code",
   "execution_count": 8,
   "metadata": {},
   "outputs": [
    {
     "name": "stdout",
     "output_type": "stream",
     "text": [
      "Environnement solved in 1940 episodes with score 13.01 over last 100 episodes!\n"
     ]
    },
    {
     "data": {
      "image/png": "[encoded data removed]",
      "text/plain": [
       "<Figure size 864x576 with 1 Axes>"
      ]
     },
     "metadata": {
      "needs_background": "light"
     },
     "output_type": "display_data"
    },
    {
     "name": "stdout",
     "output_type": "stream",
     "text": [
      "Wall time: 1h 57min 29s\n"
     ]
    }
   ],
   "source": [
    "%%time\n",
    "\n",
    "_model_suffix = ''     # specific model name for saving\n",
    "\n",
    "AVERAGE_PASS_ENV = 100 # The score to pass has to be average on the last x episodes\n",
    "SCORE_TO_PASS = 13\n",
    "\n",
    "AVERAGE_ON_RECORD = 20\n",
    "N_EPISODES = 2_500\n",
    "\n",
    "cnt_record = 0\n",
    "environment_solved = False\n",
    "scores_record = deque()\n",
    "scores_window = deque(maxlen=max(AVERAGE_ON_RECORD, AVERAGE_PASS_ENV))\n",
    "\n",
    "for i in range(1, N_EPISODES + 1):\n",
    "    \n",
    "    if environment_solved:\n",
    "        break\n",
    "    # reset the environment and get the initial state\n",
    "    env_info = env.reset(train_mode=True)[brain_name] \n",
    "    state = env_info.vector_observations[0]           \n",
    "    score = 0                                         \n",
    "    \n",
    "    while True:\n",
    "        \n",
    "        # select an action\n",
    "        action = agent.act(state)                     \n",
    "        \n",
    "        # send the action to the environment\n",
    "        env_info = env.step(action)[brain_name]   \n",
    "        # get the next state\n",
    "        next_state = env_info.vector_observations[0] \n",
    "        # get the reward\n",
    "        reward = env_info.rewards[0]  \n",
    "         # see if episode has finished\n",
    "        done = env_info.local_done[0]                 \n",
    "        \n",
    "        # save the experience and decide to learn or to continue interacting\n",
    "        agent.step(state, action, reward, next_state, done) \n",
    "        \n",
    "        # update the score\n",
    "        score += reward                                \n",
    "        state = next_state\n",
    "        \n",
    "        # Record score, check if the environment is solved and escape the loop.\n",
    "        if done:                                       \n",
    "            \n",
    "            scores_window.append(score)\n",
    "            cnt_record += 1\n",
    "            \n",
    "            # Record the averaged score when needed\n",
    "            if cnt_record % AVERAGE_ON_RECORD == 0:\n",
    "                score_averaged = np.mean(list(scores_window)[-AVERAGE_ON_RECORD:])\n",
    "                scores_record.append(score_averaged)\n",
    "                cnt_record = 0\n",
    "                print(f\"\\rEpisode {i} Score: {score_averaged}\", end='\\r')\n",
    "            \n",
    "            # Check if the environnment is solved\n",
    "            if len(scores_window) >= AVERAGE_PASS_ENV :\n",
    "                score_averaged = np.mean(list(scores_window)[-AVERAGE_PASS_ENV:])\n",
    "                if score_averaged > SCORE_TO_PASS:\n",
    "                    environment_solved = True\n",
    "                    print(f\"\\rEnvironnement solved in {i} episodes with score {score_averaged} over last {AVERAGE_PASS_ENV} episodes!\")\n",
    "                    now = datetime.now()\n",
    "                    modelname = f'{str(now.month).zfill(2)}_{str(now.day).zfill(2)}_{now.hour}h{now.minute}_Qnet{_model_suffix}'\n",
    "                    torch.save(agent.QNet_local.state_dict(), os.path.join(path_model, fr'{modelname}.pth'))\n",
    "                    \n",
    "            break\n",
    "            \n",
    "# plot the scores\n",
    "fig = plt.figure(figsize=(12,8))\n",
    "ax = fig.add_subplot(111)\n",
    "plt.plot(np.arange(len(scores_record))*AVERAGE_ON_RECORD, scores_record, marker='+')\n",
    "ax.hlines(13, 0, len(scores_record)*AVERAGE_ON_RECORD, 'k', linestyle=':')\n",
    "plt.ylabel('Score')\n",
    "plt.xlabel('Episode #')\n",
    "plt.show()"
   ]
  },
  {
   "cell_type": "code",
   "execution_count": 16,
   "metadata": {},
   "outputs": [],
   "source": [
    "save_scores(scores_record, AVERAGE_ON_RECORD, suffix='solved_in_1940')"
   ]
  },
  {
   "cell_type": "markdown",
   "metadata": {},
   "source": [
    "_____"
   ]
  },
  {
   "cell_type": "markdown",
   "metadata": {},
   "source": [
    "### Load a trained agent and watch it interact for one episode"
   ]
  },
  {
   "cell_type": "code",
   "execution_count": 12,
   "metadata": {},
   "outputs": [
    {
     "name": "stdout",
     "output_type": "stream",
     "text": [
      "Score: 16.0\n"
     ]
    }
   ],
   "source": [
    "agent = load_agent('per_ddqn_dueling_16k', path_model)\n",
    "\n",
    "env_info = env.reset(train_mode=False)[brain_name] # reset the environment\n",
    "state = env_info.vector_observations[0]            # get the current state\n",
    "score = 0                                          # initialize the score\n",
    "while True:\n",
    "    action = agent.act(state)                      # select an action\n",
    "    env_info = env.step(action)[brain_name]        # send the action to the environment\n",
    "    next_state = env_info.vector_observations[0]   # get the next state\n",
    "    reward = env_info.rewards[0]                   # get the reward\n",
    "    done = env_info.local_done[0]                  # see if episode has finished\n",
    "    score += reward                                # update the score\n",
    "    state = next_state                             # roll over the state to next time step\n",
    "    if done:                                       # exit loop if episode finished\n",
    "        break\n",
    "\n",
    "print(\"Score: {}\".format(score))"
   ]
  }
 ],
 "metadata": {
  "kernelspec": {
   "display_name": "RL",
   "language": "python",
   "name": "rl"
  },
  "language_info": {
   "codemirror_mode": {
    "name": "ipython",
    "version": 3
   },
   "file_extension": ".py",
   "mimetype": "text/x-python",
   "name": "python",
   "nbconvert_exporter": "python",
   "pygments_lexer": "ipython3",
   "version": "3.7.0"
  }
 },
 "nbformat": 4,
 "nbformat_minor": 4
}
